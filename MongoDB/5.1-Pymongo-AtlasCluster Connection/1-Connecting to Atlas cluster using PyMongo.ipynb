{
 "cells": [
  {
   "cell_type": "markdown",
   "source": [
    "# `Connecting to Atlas cluster using PyMongo`"
   ],
   "metadata": {}
  },
  {
   "cell_type": "code",
   "execution_count": 1,
   "source": [
    "# Importing the required libraries\n",
    "import pymongo"
   ],
   "outputs": [],
   "metadata": {}
  },
  {
   "cell_type": "markdown",
   "source": [
    "---\n",
    "Connect to MongoDB client which is [Atlas Cluster](https://www.mongodb.com/cloud/atlas) here.\n",
    "\n",
    "----"
   ],
   "metadata": {}
  },
  {
   "cell_type": "code",
   "execution_count": 5,
   "source": [
    "# Connect to the Atlas Cluster\n",
    "## client = pymongo.MongoClient('<connection_string>')\n",
    "client = pymongo.MongoClient('mongodb+srv://user_1:..................')"
   ],
   "outputs": [],
   "metadata": {}
  },
  {
   "cell_type": "code",
   "execution_count": 6,
   "source": [
    "# Client\n",
    "client"
   ],
   "outputs": [
    {
     "output_type": "execute_result",
     "data": {
      "text/plain": [
       "MongoClient(host=['cluster0-shard-00-01.p5yk0.mongodb.net:27017', 'cluster0-shard-00-00.p5yk0.mongodb.net:27017', 'cluster0-shard-00-02.p5yk0.mongodb.net:27017'], document_class=dict, tz_aware=False, connect=True, retrywrites=True, w='majority', authsource='admin', replicaset='atlas-82d5er-shard-0', ssl=True)"
      ]
     },
     "metadata": {},
     "execution_count": 6
    }
   ],
   "metadata": {}
  },
  {
   "cell_type": "markdown",
   "source": [
    "### Connection Stablished\n",
    "* Use your Db password in adress"
   ],
   "metadata": {}
  },
  {
   "cell_type": "markdown",
   "source": [
    "`up nextConnecting to local MongoDB server using PyMongo`"
   ],
   "metadata": {}
  }
 ],
 "metadata": {
  "kernelspec": {
   "name": "python3",
   "display_name": "Python 3.7.7 64-bit ('base': conda)"
  },
  "language_info": {
   "codemirror_mode": {
    "name": "ipython",
    "version": 3
   },
   "file_extension": ".py",
   "mimetype": "text/x-python",
   "name": "python",
   "nbconvert_exporter": "python",
   "pygments_lexer": "ipython3",
   "version": "3.7.7"
  },
  "interpreter": {
   "hash": "fb2d3f2a20add04007a107bc483b4e625069f7acb60837d887d77da2f0eec5b6"
  }
 },
 "nbformat": 4,
 "nbformat_minor": 5
}
